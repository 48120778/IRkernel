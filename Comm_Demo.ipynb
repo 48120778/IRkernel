{
 "cells": [
  {
   "cell_type": "code",
   "execution_count": 2,
   "metadata": {
    "collapsed": true
   },
   "outputs": [],
   "source": [
    "target_name_in_kernel <- \"kernel_target\"\n",
    "target_name_in_browser <- \"browser_target\""
   ]
  },
  {
   "cell_type": "markdown",
   "metadata": {},
   "source": [
    "#### Open handler in the kernel"
   ]
  },
  {
   "cell_type": "code",
   "execution_count": 3,
   "metadata": {
    "collapsed": false
   },
   "outputs": [],
   "source": [
    "target_handler <- function(comm, data){\n",
    "    print(\"Got open call\")\n",
    "    print( data )\n",
    "    \n",
    "    comm$on_msg(function(msg){\n",
    "        print(\"Got message\")\n",
    "        print(msg)\n",
    "    })\n",
    "    \n",
    "    comm$on_close(function(){\n",
    "        print(\"Got close\")\n",
    "    })\n",
    "}\n",
    "\n",
    "kernel$comm_manager$register_target(target_name_in_kernel, target_handler)"
   ]
  },
  {
   "cell_type": "markdown",
   "metadata": {},
   "source": [
    "### Test in Javascript console\n",
    "var comm = IPython.notebook.kernel.comm_manager.new_comm(\"kernel_target\",{list:[1,2,3,4,5,6,7,8,9]})\n",
    "\n",
    "comm.send({foo:'bar'})\n",
    "\n",
    "comm.close()"
   ]
  },
  {
   "cell_type": "markdown",
   "metadata": {},
   "source": [
    "### Open handler in browser"
   ]
  },
  {
   "cell_type": "markdown",
   "metadata": {},
   "source": [
    "#### Register target in browser\n",
    "\n",
    "IPython.notebook.kernel.comm_manager.register_target(\"browser_target\", function(){ console.log(\"Got open message\", arguments) })"
   ]
  },
  {
   "cell_type": "code",
   "execution_count": 1,
   "metadata": {
    "collapsed": false
   },
   "outputs": [
    {
     "ename": "ERROR",
     "evalue": "Error in methods::initRefFields(.Object, classDef, selfEnv, list(...)): object 'target_name_in_browser' not found\n",
     "output_type": "error",
     "traceback": [
      "Error in methods::initRefFields(.Object, classDef, selfEnv, list(...)): object 'target_name_in_browser' not found\nTraceback:\n",
      "1. kernel$comm_manager$new_comm(target_name_in_browser)",
      "2. Comm$new(id = comm_id, target_name = target_name, comm_manager = .self)",
      "3. methods::new(def, ...)",
      "4. initialize(value, ...)",
      "5. initialize(value, ...)",
      "6. methods::initRefFields(.Object, classDef, selfEnv, list(...))"
     ]
    },
    {
     "name": "stdout",
     "output_type": "stream",
     "text": [
      "msg_type in send_response =  error \n",
      "[1] \"content in send_response is\"\n",
      "$ename\n",
      "[1] \"ERROR\"\n",
      "\n",
      "$evalue\n",
      "[1] \"Error in methods::initRefFields(.Object, classDef, selfEnv, list(...)): object 'target_name_in_browser' not found\\n\"\n",
      "\n",
      "$traceback\n",
      "[1] \"Error in methods::initRefFields(.Object, classDef, selfEnv, list(...)): object 'target_name_in_browser' not found\\nTraceback:\\n\"\n",
      "[2] \"1. kernel$comm_manager$new_comm(target_name_in_browser)\"                                                                        \n",
      "[3] \"2. Comm$new(id = comm_id, target_name = target_name, comm_manager = .self)\"                                                     \n",
      "[4] \"3. methods::new(def, ...)\"                                                                                                      \n",
      "[5] \"4. initialize(value, ...)\"                                                                                                      \n",
      "[6] \"5. initialize(value, ...)\"                                                                                                      \n",
      "[7] \"6. methods::initRefFields(.Object, classDef, selfEnv, list(...))\"                                                               \n",
      "\n",
      "$execution_count\n",
      "[1] 1\n",
      "\n"
     ]
    }
   ],
   "source": [
    "comm <- kernel$comm_manager$new_comm(target_name_in_browser)\n",
    "comm$open()"
   ]
  },
  {
   "cell_type": "markdown",
   "metadata": {},
   "source": [
    "Need to get a handle on the comm object in the browser.  \n",
    "Put a breakpoint in comm.js in CommManager.prototype.comm_open and run ```window.testcomm = comm```"
   ]
  },
  {
   "cell_type": "markdown",
   "metadata": {},
   "source": [
    "Register on_msg and on_close:\n",
    "* window.testcomm.on_msg(function(data){console.log(\"Got data\", data)})\n",
    "* window.testcomm.on_close(function(data){console.log(\"Got close\", data)})"
   ]
  },
  {
   "cell_type": "code",
   "execution_count": null,
   "metadata": {
    "collapsed": false
   },
   "outputs": [],
   "source": [
    "comm$send()"
   ]
  },
  {
   "cell_type": "code",
   "execution_count": null,
   "metadata": {
    "collapsed": false
   },
   "outputs": [],
   "source": [
    "comm$close()"
   ]
  }
 ],
 "metadata": {
  "kernelspec": {
   "display_name": "R",
   "language": "R",
   "name": "ir"
  },
  "language_info": {
   "codemirror_mode": "r",
   "file_extension": ".r",
   "mimetype": "text/x-r-source",
   "name": "R",
   "pygments_lexer": "r",
   "version": "3.2.3"
  }
 },
 "nbformat": 4,
 "nbformat_minor": 0
}
