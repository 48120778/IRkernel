{
 "metadata": {
  "name": "",
  "signature": "sha256:563749d5c7e325a4db6261fd37f8061f371ce02d2b8bc314f468443a806a6617"
 },
 "nbformat": 3,
 "nbformat_minor": 0,
 "worksheets": [
  {
   "cells": [
    {
     "cell_type": "markdown",
     "metadata": {},
     "source": [
      "Code without visible output:"
     ]
    },
    {
     "cell_type": "code",
     "collapsed": false,
     "input": [
      "a=8"
     ],
     "language": "python",
     "metadata": {},
     "outputs": [],
     "prompt_number": 1
    },
    {
     "cell_type": "code",
     "collapsed": false,
     "input": [
      "b=4:9"
     ],
     "language": "python",
     "metadata": {},
     "outputs": [],
     "prompt_number": 2
    },
    {
     "cell_type": "markdown",
     "metadata": {},
     "source": [
      "With visible output:"
     ]
    },
    {
     "cell_type": "code",
     "collapsed": false,
     "input": [
      "a+b"
     ],
     "language": "python",
     "metadata": {},
     "outputs": [
      {
       "metadata": {},
       "output_type": "pyout",
       "prompt_number": 3,
       "text": [
        "[1] 12 13 14 15 16 17"
       ]
      }
     ],
     "prompt_number": 3
    },
    {
     "cell_type": "markdown",
     "metadata": {},
     "source": [
      "Printing is captured and sent to the frontend:"
     ]
    },
    {
     "cell_type": "code",
     "collapsed": false,
     "input": [
      "print(\"Hello world! Love, R in IPython.\")"
     ],
     "language": "python",
     "metadata": {},
     "outputs": [
      {
       "output_type": "stream",
       "stream": "stdout",
       "text": [
        "[1] \"Hello world! Love, R in IPython.\""
       ]
      }
     ],
     "prompt_number": 4
    },
    {
     "cell_type": "markdown",
     "metadata": {},
     "source": [
      "So are errors:"
     ]
    },
    {
     "cell_type": "code",
     "collapsed": false,
     "input": [
      "h"
     ],
     "language": "python",
     "metadata": {},
     "outputs": [
      {
       "ename": "ERROR",
       "evalue": "Error in withVisible({: object 'h' not found\n",
       "output_type": "pyerr",
       "traceback": [
        "Error in withVisible({: object 'h' not found\n"
       ]
      }
     ],
     "prompt_number": 5
    }
   ],
   "metadata": {}
  }
 ]
}